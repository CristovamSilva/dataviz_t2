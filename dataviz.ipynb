{
 "cells": [
  {
   "cell_type": "code",
   "execution_count": 2,
   "id": "f6a5c85e",
   "metadata": {},
   "outputs": [],
   "source": [
    "import pandas as pd\n",
    "import json"
   ]
  },
  {
   "cell_type": "code",
   "execution_count": 46,
   "id": "4d766760",
   "metadata": {},
   "outputs": [],
   "source": [
    "anonym_df = pd.read_csv(\"data/anonymized_answers.csv\")\n",
    "df = pd.read_csv('data/preprocessed.csv')\n",
    "\n",
    "df = df.rename(\n",
    "    columns={\n",
    "        \"burnout_tracking\": \"burnout\",\n",
    "        \"forgetfulness_tracking\": \"forgetfulness\",\n",
    "        \"height_tracking\": \"height\",\n",
    "        \"insomnia_tracking\": \"insomnia\",\n",
    "        \"quit_smoking_tracking\": \"quit_smoking\",\n",
    "        \"smoker_tracking\": \"smoker\",\n",
    "        \"snore_tracking\": \"snore\",\n",
    "        \"wake_up_tired_tracking\": \"wake_up_tired\",\n",
    "        \"weight_tracking\": \"weight\",\n",
    "        \"work_env_stimulation_tracking\": \"work_env_stimulation\",\n",
    "        \"work_satisfaction_tracking\": \"work_satisfaction\",\n",
    "    }\n",
    ")\n",
    "\n",
    "cols_to_join = [\n",
    "    \"birthdate\",\n",
    "    \"race\",\n",
    "    \"education_level\",\n",
    "    \"work_model\",\n",
    "    \"marital_status\",\n",
    "    \"biological_sex\",\n",
    "    \"health_insurance\",\n",
    "]\n",
    "df = df.join(anonym_df[cols_to_join])\n",
    "df[\"age\"] = (\n",
    "    pd.to_datetime(df[\"updated_at\"], dayfirst=True).dt.year\n",
    "    - pd.to_datetime(df[\"birthdate\"], dayfirst=True).dt.year\n",
    ")\n",
    "df = df.drop(\n",
    "    columns=[\n",
    "        \"updated_at\",\n",
    "        \"birthdate\",\n",
    "        \"patient_id\",\n",
    "        \"id_tracking\",\n",
    "        \"id_answers\",\n",
    "        \"height_answers\",\n",
    "        \"weight_answers\",\n",
    "        \"work_env_stimulation_answers\",\n",
    "        \"wake_up_tired_answers\",\n",
    "        \"snore_answers\",\n",
    "        \"insomnia_answers\",\n",
    "        \"forgetfulness_answers\",\n",
    "        \"work_satisfaction_answers\",\n",
    "        \"smoker_answers\",\n",
    "        \"burnout_answers\",\n",
    "        \"quit_smoking_answers\",\n",
    "        \"answers_id\",\n",
    "        \"social_red_flags_score\",\n",
    "        \"physical_red_flags_score\",\n",
    "        \"clinical_red_flags_score\",\n",
    "        \"mental_red_flags_score\",\n",
    "        \"nutritional_red_flags_score\",\n",
    "        \"sleep_red_flags_score\",\n",
    "        \"financial_red_flags_score\",\n",
    "        \"social_active_red_flags\",\n",
    "        \"physical_active_red_flags\",\n",
    "        \"clinical_active_red_flags\",\n",
    "        \"mental_active_red_flags\",\n",
    "        \"nutritional_active_red_flags\",\n",
    "        \"sleep_active_red_flags\",\n",
    "        \"financial_active_red_flags\",\n",
    "        \"social_health_score\",\n",
    "        \"physical_health_score\",\n",
    "        \"clinical_health_score\",\n",
    "        \"mental_health_score\",\n",
    "        \"nutritional_health_score\",\n",
    "        \"sleep_health_score\",\n",
    "        \"financial_health_score\",\n",
    "        \"social_health_eval\",\n",
    "        \"physical_health_eval\",\n",
    "        \"clinical_health_eval\",\n",
    "        \"mental_health_eval\",\n",
    "        \"nutritional_health_eval\",\n",
    "        \"sleep_health_eval\",\n",
    "        \"financial_health_eval\",\n",
    "        \"mental_well_being\",\n",
    "        \"nutrition_well_being\",\n",
    "        \"finance_well_being\",\n",
    "        \"health_general\",\n",
    "        \"health_quality\",\n",
    "    ]\n",
    ")\n",
    "# Decode biological sex from JSON\n",
    "df[\"biological_sex\"] = df[\"biological_sex\"].apply(\n",
    "    lambda x: \"Female\" if json.loads(x)[\"female\"] else \"Male\"\n",
    ")\n",
    "df[\"health_insurance\"] = df[\"health_insurance\"].apply(\n",
    "    lambda x: \"Yes\" if x == \"other\" else \"No\"\n",
    ")\n",
    "\n",
    "df = df[(df[\"age\"] >= 18) & (df[\"age\"] <= 120)]\n",
    "df = df[(df[\"heart_age\"] >= 18) & (df[\"heart_age\"] <= 120)]\n",
    "\n",
    "df.to_csv(\"processed.csv\", index=False)"
   ]
  },
  {
   "cell_type": "code",
   "execution_count": 59,
   "id": "09c4282d",
   "metadata": {},
   "outputs": [
    {
     "data": {
      "text/plain": [
       "array([1, 5])"
      ]
     },
     "execution_count": 59,
     "metadata": {},
     "output_type": "execute_result"
    }
   ],
   "source": [
    "df[\"bowel_movements\"].unique()"
   ]
  },
  {
   "cell_type": "code",
   "execution_count": null,
   "id": "92b5fcf7",
   "metadata": {},
   "outputs": [],
   "source": []
  }
 ],
 "metadata": {
  "kernelspec": {
   "display_name": "dataviz",
   "language": "python",
   "name": "python3"
  },
  "language_info": {
   "codemirror_mode": {
    "name": "ipython",
    "version": 3
   },
   "file_extension": ".py",
   "mimetype": "text/x-python",
   "name": "python",
   "nbconvert_exporter": "python",
   "pygments_lexer": "ipython3",
   "version": "3.12.9"
  }
 },
 "nbformat": 4,
 "nbformat_minor": 5
}
